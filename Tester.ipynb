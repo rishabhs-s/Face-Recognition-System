{
 "cells": [
  {
   "cell_type": "code",
   "execution_count": 1,
   "metadata": {},
   "outputs": [],
   "source": [
    "#pip install opencv-contrib-python --upgrade"
   ]
  },
  {
   "cell_type": "code",
   "execution_count": 2,
   "metadata": {},
   "outputs": [
    {
     "name": "stdout",
     "output_type": "stream",
     "text": [
      "Requirement already satisfied: opencv-contrib-python in c:\\users\\dell\\appdata\\roaming\\python\\python37\\site-packages (4.3.0.36)\n",
      "Requirement already satisfied: numpy>=1.14.5 in f:\\anaconda\\lib\\site-packages (from opencv-contrib-python) (1.18.1)\n",
      "Note: you may need to restart the kernel to use updated packages.\n"
     ]
    }
   ],
   "source": [
    "pip install opencv-contrib-python --user"
   ]
  },
  {
   "cell_type": "code",
   "execution_count": 3,
   "metadata": {
    "scrolled": true
   },
   "outputs": [
    {
     "name": "stdout",
     "output_type": "stream",
     "text": [
      "Requirement already satisfied: ipynb in f:\\anaconda\\lib\\site-packages (0.5.1)\n",
      "Note: you may need to restart the kernel to use updated packages.\n"
     ]
    }
   ],
   "source": [
    "pip install ipynb"
   ]
  },
  {
   "cell_type": "code",
   "execution_count": 4,
   "metadata": {},
   "outputs": [
    {
     "name": "stdout",
     "output_type": "stream",
     "text": [
      "Requirement already satisfied: import_ipynb in f:\\anaconda\\lib\\site-packages (0.1.3)\n",
      "Note: you may need to restart the kernel to use updated packages.\n"
     ]
    }
   ],
   "source": [
    "pip install import_ipynb"
   ]
  },
  {
   "cell_type": "code",
   "execution_count": 5,
   "metadata": {},
   "outputs": [
    {
     "name": "stdout",
     "output_type": "stream",
     "text": [
      "importing Jupyter notebook from faceRecognition.ipynb\n"
     ]
    }
   ],
   "source": [
    "import import_ipynb\n",
    "import cv2\n",
    "import os\n",
    "import numpy as np\n",
    "import faceRecognition as fr"
   ]
  },
  {
   "cell_type": "code",
   "execution_count": 6,
   "metadata": {},
   "outputs": [
    {
     "name": "stdout",
     "output_type": "stream",
     "text": [
      "faces detected: [[594  37 119 119]]\n"
     ]
    }
   ],
   "source": [
    "test_img=cv2.imread(\"E:/fresher/as.jpg\")\n",
    "faces_detected,gray_img=fr.facedetection(test_img)\n",
    "print(\"faces detected:\" ,faces_detected)"
   ]
  },
  {
   "cell_type": "code",
   "execution_count": 7,
   "metadata": {},
   "outputs": [],
   "source": [
    "#drawing rectangle around face"
   ]
  },
  {
   "cell_type": "markdown",
   "metadata": {},
   "source": [
    "cv2.rectangle() method is used to draw a rectangle on any image.<br><br>\n",
    "Syntax: cv2.rectangle(image, start_point, end_point, color, thickness)<br><br>\n",
    "start_point: It is the starting coordinates of rectangle. The coordinates are represented as tuples of two values i.e. (X coordinate value, Y coordinate value).<br><br>\n",
    "end_point: It is the ending coordinates of rectangle. The coordinates are represented as tuples of two values i.e. (X coordinate value, Y coordinate value)."
   ]
  },
  {
   "cell_type": "code",
   "execution_count": 8,
   "metadata": {},
   "outputs": [],
   "source": [
    "#for (x,y,w,h ) in faces_detected:\n",
    " #   cv2.rectangle(test_img,(x,y),(x+w,y+h),(255,0,0),thickness=5)\n",
    "    "
   ]
  },
  {
   "cell_type": "markdown",
   "metadata": {},
   "source": [
    "cv2.imshow() method is used to display an image in a window. The window automatically fits to the image size.<br><br>\n",
    "syntax: cv2.imshow(window_name, image).<br><br>\n"
   ]
  },
  {
   "cell_type": "code",
   "execution_count": 9,
   "metadata": {},
   "outputs": [],
   "source": [
    "#resized_img=cv2.resize(test_img,(700,700))\n",
    "#cv2.imshow(\"face detection\",resized_img)\n",
    "#cv2.waitKey(0)\n",
    "#cv2.destroyAllWindows    "
   ]
  },
  {
   "cell_type": "code",
   "execution_count": 10,
   "metadata": {},
   "outputs": [
    {
     "name": "stdout",
     "output_type": "stream",
     "text": [
      "id:  0\n",
      "img_path:  C:/Users/dell/Face Recognition/Face-Recognition-System/IMAGES\\0\\A67BB513-AB0D-4109-AF72-EA799363B88BL0001.jpeg\n",
      "id:  0\n",
      "img_path:  C:/Users/dell/Face Recognition/Face-Recognition-System/IMAGES\\0\\B0A7DB4E-8B6B-4A73-BA0E-925A6B970999L0001.jpeg\n",
      "id:  0\n",
      "img_path:  C:/Users/dell/Face Recognition/Face-Recognition-System/IMAGES\\0\\IMG_20200625_153412_Bokeh.jpg\n",
      "id:  0\n",
      "img_path:  C:/Users/dell/Face Recognition/Face-Recognition-System/IMAGES\\0\\IMG_20200625_153556_Bokeh.jpg\n",
      "id:  0\n",
      "img_path:  C:/Users/dell/Face Recognition/Face-Recognition-System/IMAGES\\0\\IMG_20200628_181142_Bokeh.jpg\n",
      "id:  0\n",
      "img_path:  C:/Users/dell/Face Recognition/Face-Recognition-System/IMAGES\\0\\IMG_20200628_181145_Bokeh.jpg\n",
      "id:  0\n",
      "img_path:  C:/Users/dell/Face Recognition/Face-Recognition-System/IMAGES\\0\\rishabh.jpeg\n",
      "id:  0\n",
      "img_path:  C:/Users/dell/Face Recognition/Face-Recognition-System/IMAGES\\0\\rishabh.jpg\n",
      "id:  1\n",
      "img_path:  C:/Users/dell/Face Recognition/Face-Recognition-System/IMAGES\\1\\IMG_20190915_085520_Bokeh.jpg\n",
      "id:  1\n",
      "img_path:  C:/Users/dell/Face Recognition/Face-Recognition-System/IMAGES\\1\\IMG_20200323_200019.jpg\n",
      "id:  1\n",
      "img_path:  C:/Users/dell/Face Recognition/Face-Recognition-System/IMAGES\\1\\IMG_20200625_153034_Bokeh.jpg\n",
      "id:  1\n",
      "img_path:  C:/Users/dell/Face Recognition/Face-Recognition-System/IMAGES\\1\\IMG_20200625_153513_Bokeh.jpg\n",
      "id:  1\n",
      "img_path:  C:/Users/dell/Face Recognition/Face-Recognition-System/IMAGES\\1\\IMG_20200625_153531_Bokeh.jpg\n",
      "id:  1\n",
      "img_path:  C:/Users/dell/Face Recognition/Face-Recognition-System/IMAGES\\1\\IMG_20200625_153534.jpg\n",
      "id:  1\n",
      "img_path:  C:/Users/dell/Face Recognition/Face-Recognition-System/IMAGES\\1\\IMG_20200625_153912.jpg\n",
      "id:  1\n",
      "img_path:  C:/Users/dell/Face Recognition/Face-Recognition-System/IMAGES\\1\\IMG_20200625_153915.jpg\n",
      "id:  1\n",
      "img_path:  C:/Users/dell/Face Recognition/Face-Recognition-System/IMAGES\\1\\IMG_20200625_153933.jpg\n",
      "id:  1\n",
      "img_path:  C:/Users/dell/Face Recognition/Face-Recognition-System/IMAGES\\1\\IMG_20200625_154003.jpg\n",
      "id:  1\n",
      "img_path:  C:/Users/dell/Face Recognition/Face-Recognition-System/IMAGES\\1\\IMG_20200625_154033_Bokeh.jpg\n",
      "id:  1\n",
      "img_path:  C:/Users/dell/Face Recognition/Face-Recognition-System/IMAGES\\1\\IMG_20200625_154038.jpg\n"
     ]
    },
    {
     "ename": "TypeError",
     "evalue": "Expected Ptr<cv::UMat> for argument 'src'",
     "output_type": "error",
     "traceback": [
      "\u001b[1;31m---------------------------------------------------------------------------\u001b[0m",
      "\u001b[1;31mTypeError\u001b[0m                                 Traceback (most recent call last)",
      "\u001b[1;32m<ipython-input-10-9f0ac8831a43>\u001b[0m in \u001b[0;36m<module>\u001b[1;34m\u001b[0m\n\u001b[0;32m      5\u001b[0m     \u001b[1;33m(\u001b[0m\u001b[0mx\u001b[0m\u001b[1;33m,\u001b[0m\u001b[0my\u001b[0m\u001b[1;33m,\u001b[0m\u001b[0mw\u001b[0m\u001b[1;33m,\u001b[0m\u001b[0mh\u001b[0m\u001b[1;33m)\u001b[0m\u001b[1;33m=\u001b[0m\u001b[0mface\u001b[0m\u001b[1;33m\u001b[0m\u001b[1;33m\u001b[0m\u001b[0m\n\u001b[0;32m      6\u001b[0m     \u001b[0mroi_gray\u001b[0m\u001b[1;33m=\u001b[0m\u001b[0mgray_img\u001b[0m\u001b[1;33m[\u001b[0m\u001b[0my\u001b[0m\u001b[1;33m:\u001b[0m\u001b[0my\u001b[0m\u001b[1;33m+\u001b[0m\u001b[0mh\u001b[0m\u001b[1;33m,\u001b[0m\u001b[0mx\u001b[0m\u001b[1;33m:\u001b[0m\u001b[0mx\u001b[0m\u001b[1;33m+\u001b[0m\u001b[0mh\u001b[0m\u001b[1;33m]\u001b[0m\u001b[1;33m\u001b[0m\u001b[1;33m\u001b[0m\u001b[0m\n\u001b[1;32m----> 7\u001b[1;33m     \u001b[0mlabel\u001b[0m\u001b[1;33m,\u001b[0m\u001b[0mconfidence\u001b[0m\u001b[1;33m=\u001b[0m\u001b[0mface_recognizer\u001b[0m\u001b[1;33m.\u001b[0m\u001b[0mpredict\u001b[0m\u001b[1;33m(\u001b[0m\u001b[1;34m\"E:/fresher/as.jpg\"\u001b[0m\u001b[1;33m)\u001b[0m\u001b[1;33m\u001b[0m\u001b[1;33m\u001b[0m\u001b[0m\n\u001b[0m\u001b[0;32m      8\u001b[0m     \u001b[0mprint\u001b[0m\u001b[1;33m(\u001b[0m\u001b[1;34m\"confidence: \"\u001b[0m\u001b[1;33m,\u001b[0m\u001b[0mconfidence\u001b[0m\u001b[1;33m)\u001b[0m\u001b[1;33m\u001b[0m\u001b[1;33m\u001b[0m\u001b[0m\n\u001b[0;32m      9\u001b[0m     \u001b[0mprint\u001b[0m\u001b[1;33m(\u001b[0m\u001b[1;34m\"label:\"\u001b[0m\u001b[1;33m,\u001b[0m\u001b[0mlabel\u001b[0m\u001b[1;33m)\u001b[0m\u001b[1;33m\u001b[0m\u001b[1;33m\u001b[0m\u001b[0m\n",
      "\u001b[1;31mTypeError\u001b[0m: Expected Ptr<cv::UMat> for argument 'src'"
     ]
    }
   ],
   "source": [
    "faces,faceid=fr.labels_for_training_data(\"C:/Users/dell/Face Recognition/Face-Recognition-System/IMAGES\")\n",
    "face_recognizer=fr.train_classifier(faces,faceid)\n",
    "name={0:\"Rishabh\",1:\"Sunita\"}\n",
    "for face in faces_detected:\n",
    "    (x,y,w,h)=face\n",
    "    roi_gray=gray_img[y:y+h,x:x+h]\n",
    "    label,confidence=face_recognizer.predict(\"E:/fresher/as.jpg\")\n",
    "    print(\"confidence: \",confidence)\n",
    "    print(\"label:\",label)\n",
    "    fr.draw_rect(test_img,face)\n",
    "    predicted_name=name[label]\n",
    "    fr.put_text(test_img,predicted_name,x,y)"
   ]
  },
  {
   "cell_type": "code",
   "execution_count": null,
   "metadata": {},
   "outputs": [],
   "source": [
    "resized_img=cv2.resize(test_img,(700,700))\n",
    "cv2.imshow(\"face detection\",resized_img)\n",
    "cv2.waitKey(0)\n",
    "cv2.destroyAllWindows   \n"
   ]
  },
  {
   "cell_type": "code",
   "execution_count": null,
   "metadata": {},
   "outputs": [],
   "source": []
  }
 ],
 "metadata": {
  "kernelspec": {
   "display_name": "Python 3",
   "language": "python",
   "name": "python3"
  },
  "language_info": {
   "codemirror_mode": {
    "name": "ipython",
    "version": 3
   },
   "file_extension": ".py",
   "mimetype": "text/x-python",
   "name": "python",
   "nbconvert_exporter": "python",
   "pygments_lexer": "ipython3",
   "version": "3.7.6"
  }
 },
 "nbformat": 4,
 "nbformat_minor": 4
}
