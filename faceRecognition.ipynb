{
 "cells": [
  {
   "cell_type": "code",
   "execution_count": 1,
   "metadata": {},
   "outputs": [],
   "source": [
    "#pip install opencv-python"
   ]
  },
  {
   "cell_type": "markdown",
   "metadata": {},
   "source": [
    "cv2.cvtColor() method is used to convert an image from one color space to another. There are more than 150 color-space conversion methods available in OpenCV. <br><br>\n",
    "Haar Cascade is a machine learning object detection algorithm used to identify objects in an image or video.It is a machine learning based approach where a cascade function is trained from a lot of positive and negative images. It is then used to detect objects in other images"
   ]
  },
  {
   "cell_type": "markdown",
   "metadata": {},
   "source": [
    "Step-1) Import cv2 and numpy and also use the CascadeClassifier function of OpenCV to point to the location where we have stored the XML file<br><br>\n",
    "Step-2) Generally the images that we see are in the form of RGB channel(Red, Green, Blue). So, when OpenCV reads the RGB image, it usually stores the image in BGR (Blue, Green, Red) channel. For the purposes of image recognition, we need to convert this BGR channel to gray channel. The reason for this is gray channel is easy to process and is computationally less intensive as it contains only 1-channel of black-white.<br><br>\n",
    "So we convert it to gray-scale<br><br>\n",
    "Step-3) detectMultiScale() will help us to find the features/locations of the new image. The way it does is, it will use all the features from the face_classifier object to detect the features of the new image. It will now try to locate the exact features in our face.It has some parameters scaleFactors,minNeighbors<br><br>\n",
    "scaleFactor — Parameter specifying how much the image size is reduced at each image scale<br><br>\n",
    "minNeighbors — Parameter specifying how many neighbors each candidate rectangle should have to retain it. This parameter will affect the quality of the detected faces.<br><br>"
   ]
  },
  {
   "cell_type": "code",
   "execution_count": 2,
   "metadata": {},
   "outputs": [],
   "source": [
    "import cv2\n",
    "import os\n",
    "import numpy as np"
   ]
  },
  {
   "cell_type": "code",
   "execution_count": 3,
   "metadata": {},
   "outputs": [],
   "source": [
    "def facedetection(test_img):\n",
    "    gray_img=cv2.cvtColor(test_img,cv2.COLOR_BGR2GRAY)#BGR2GRAY converts image to grayscale to avoid unnecessary functionalities\n",
    "    face_haar_cascade=cv2.CascadeClassifier(\"haarcascade_frontalface_default.xml\")\n",
    "    faces=face_haar_cascade.detectMultiScale(gray_img,scaleFactor=1.32,minNeighbors=5)#returns the rectangles where face is detected in particular\n",
    "    return faces,gray_img"
   ]
  },
  {
   "cell_type": "code",
   "execution_count": null,
   "metadata": {},
   "outputs": [],
   "source": [
    "\n"
   ]
  },
  {
   "cell_type": "code",
   "execution_count": null,
   "metadata": {
    "scrolled": true
   },
   "outputs": [],
   "source": []
  },
  {
   "cell_type": "code",
   "execution_count": null,
   "metadata": {},
   "outputs": [],
   "source": []
  }
 ],
 "metadata": {
  "kernelspec": {
   "display_name": "Python 3",
   "language": "python",
   "name": "python3"
  },
  "language_info": {
   "codemirror_mode": {
    "name": "ipython",
    "version": 3
   },
   "file_extension": ".py",
   "mimetype": "text/x-python",
   "name": "python",
   "nbconvert_exporter": "python",
   "pygments_lexer": "ipython3",
   "version": "3.7.6"
  }
 },
 "nbformat": 4,
 "nbformat_minor": 4
}
